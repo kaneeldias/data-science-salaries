{
 "cells": [
  {
   "cell_type": "code",
   "id": "initial_id",
   "metadata": {
    "collapsed": true,
    "jupyter": {
     "outputs_hidden": true
    },
    "ExecuteTime": {
     "end_time": "2025-04-01T16:57:29.761247Z",
     "start_time": "2025-04-01T16:57:29.754452Z"
    }
   },
   "source": [
    "import pandas as pd\n",
    "import tensorflow as tf\n",
    "from numpy import dtype\n",
    "from tensorflow.keras.layers import TextVectorization, Embedding\n",
    "from keras.src.layers import Dense, Dropout\n",
    "from keras.src.layers import concatenate"
   ],
   "outputs": [],
   "execution_count": 2935
  },
  {
   "cell_type": "code",
   "id": "65024b217ad4fead",
   "metadata": {
    "ExecuteTime": {
     "end_time": "2025-04-01T16:57:29.893654Z",
     "start_time": "2025-04-01T16:57:29.867219Z"
    }
   },
   "source": [
    "salaries_data = pd.read_csv(\"data/ds_salaries_cleaned.csv\")\n",
    "salaries_data = salaries_data.sample(frac=1)\n",
    "salaries_data.head()"
   ],
   "outputs": [
    {
     "data": {
      "text/plain": [
       "     work_year experience_level employment_type                job_title  \\\n",
       "592       2023               EN              FT    Business Data Analyst   \n",
       "83        2021               EN              FT  Data Science Consultant   \n",
       "4         2020               EN              FT             Data Analyst   \n",
       "162       2021               MI              FT           Data Scientist   \n",
       "61        2020               SE              FT           Data Scientist   \n",
       "\n",
       "     remote_ratio  residence_gdp_per_capita  company_gdp_per_capita  \\\n",
       "592             0                 33895.593               33895.593   \n",
       "83              0                 52300.607               52300.607   \n",
       "4             100                  2099.135                2099.135   \n",
       "162           100                  2250.179                2250.179   \n",
       "61            100                 17570.395               64461.618   \n",
       "\n",
       "    company_size  salary_in_usd  \n",
       "592            M        21461.0  \n",
       "83             L        76833.0  \n",
       "4              S        10000.0  \n",
       "162            S        16904.0  \n",
       "61             L        68428.0  "
      ],
      "text/html": [
       "<div>\n",
       "<style scoped>\n",
       "    .dataframe tbody tr th:only-of-type {\n",
       "        vertical-align: middle;\n",
       "    }\n",
       "\n",
       "    .dataframe tbody tr th {\n",
       "        vertical-align: top;\n",
       "    }\n",
       "\n",
       "    .dataframe thead th {\n",
       "        text-align: right;\n",
       "    }\n",
       "</style>\n",
       "<table border=\"1\" class=\"dataframe\">\n",
       "  <thead>\n",
       "    <tr style=\"text-align: right;\">\n",
       "      <th></th>\n",
       "      <th>work_year</th>\n",
       "      <th>experience_level</th>\n",
       "      <th>employment_type</th>\n",
       "      <th>job_title</th>\n",
       "      <th>remote_ratio</th>\n",
       "      <th>residence_gdp_per_capita</th>\n",
       "      <th>company_gdp_per_capita</th>\n",
       "      <th>company_size</th>\n",
       "      <th>salary_in_usd</th>\n",
       "    </tr>\n",
       "  </thead>\n",
       "  <tbody>\n",
       "    <tr>\n",
       "      <th>592</th>\n",
       "      <td>2023</td>\n",
       "      <td>EN</td>\n",
       "      <td>FT</td>\n",
       "      <td>Business Data Analyst</td>\n",
       "      <td>0</td>\n",
       "      <td>33895.593</td>\n",
       "      <td>33895.593</td>\n",
       "      <td>M</td>\n",
       "      <td>21461.0</td>\n",
       "    </tr>\n",
       "    <tr>\n",
       "      <th>83</th>\n",
       "      <td>2021</td>\n",
       "      <td>EN</td>\n",
       "      <td>FT</td>\n",
       "      <td>Data Science Consultant</td>\n",
       "      <td>0</td>\n",
       "      <td>52300.607</td>\n",
       "      <td>52300.607</td>\n",
       "      <td>L</td>\n",
       "      <td>76833.0</td>\n",
       "    </tr>\n",
       "    <tr>\n",
       "      <th>4</th>\n",
       "      <td>2020</td>\n",
       "      <td>EN</td>\n",
       "      <td>FT</td>\n",
       "      <td>Data Analyst</td>\n",
       "      <td>100</td>\n",
       "      <td>2099.135</td>\n",
       "      <td>2099.135</td>\n",
       "      <td>S</td>\n",
       "      <td>10000.0</td>\n",
       "    </tr>\n",
       "    <tr>\n",
       "      <th>162</th>\n",
       "      <td>2021</td>\n",
       "      <td>MI</td>\n",
       "      <td>FT</td>\n",
       "      <td>Data Scientist</td>\n",
       "      <td>100</td>\n",
       "      <td>2250.179</td>\n",
       "      <td>2250.179</td>\n",
       "      <td>S</td>\n",
       "      <td>16904.0</td>\n",
       "    </tr>\n",
       "    <tr>\n",
       "      <th>61</th>\n",
       "      <td>2020</td>\n",
       "      <td>SE</td>\n",
       "      <td>FT</td>\n",
       "      <td>Data Scientist</td>\n",
       "      <td>100</td>\n",
       "      <td>17570.395</td>\n",
       "      <td>64461.618</td>\n",
       "      <td>L</td>\n",
       "      <td>68428.0</td>\n",
       "    </tr>\n",
       "  </tbody>\n",
       "</table>\n",
       "</div>"
      ]
     },
     "execution_count": 2936,
     "metadata": {},
     "output_type": "execute_result"
    }
   ],
   "execution_count": 2936
  },
  {
   "metadata": {
    "ExecuteTime": {
     "end_time": "2025-04-01T16:57:29.985739Z",
     "start_time": "2025-04-01T16:57:29.978902Z"
    }
   },
   "cell_type": "code",
   "source": [
    "def normalize(df):\n",
    "    return (df-df.min())/(df.max()-df.min())"
   ],
   "id": "f0af0f0fee08b16c",
   "outputs": [],
   "execution_count": 2937
  },
  {
   "cell_type": "code",
   "id": "ad0c741ad81027c2",
   "metadata": {
    "ExecuteTime": {
     "end_time": "2025-04-01T16:57:30.099687Z",
     "start_time": "2025-04-01T16:57:30.089063Z"
    }
   },
   "source": [
    "years_mapping = {\n",
    "    \"2020\": 1,\n",
    "    \"2021\": 2,\n",
    "    \"2022\": 3,\n",
    "    \"2023\": 4,\n",
    "}\n",
    "years_encoded = salaries_data[\"work_year\"].apply(lambda x: years_mapping[str(x)])\n",
    "salaries_data[\"work_year\"] = years_encoded"
   ],
   "outputs": [],
   "execution_count": 2938
  },
  {
   "cell_type": "code",
   "id": "e6d813c8362d8532",
   "metadata": {
    "ExecuteTime": {
     "end_time": "2025-04-01T16:57:30.217719Z",
     "start_time": "2025-04-01T16:57:30.210110Z"
    }
   },
   "source": [
    "experience_levels_mapping = {\n",
    "    \"EN\": 1,\n",
    "    \"MI\": 2,\n",
    "    \"SE\": 3,\n",
    "    \"EX\": 4\n",
    "}\n",
    "experience_levels_encoded = salaries_data[\"experience_level\"].apply(lambda x: experience_levels_mapping[str(x)])\n",
    "salaries_data[\"experience_level\"] = experience_levels_encoded"
   ],
   "outputs": [],
   "execution_count": 2939
  },
  {
   "cell_type": "code",
   "id": "a6372b50035227a7",
   "metadata": {
    "ExecuteTime": {
     "end_time": "2025-04-01T16:57:30.283712Z",
     "start_time": "2025-04-01T16:57:30.275471Z"
    }
   },
   "source": [
    "employment_type_mapping = {\n",
    "    \"PT\": 1,\n",
    "    \"FL\": 2,\n",
    "    \"CT\": 3,\n",
    "    \"FT\": 4\n",
    "}\n",
    "employment_type_encoded = salaries_data[\"employment_type\"].apply(lambda x: employment_type_mapping[str(x)])\n",
    "salaries_data[\"employment_type\"] = employment_type_encoded"
   ],
   "outputs": [],
   "execution_count": 2940
  },
  {
   "cell_type": "code",
   "id": "120363c2066b9054",
   "metadata": {
    "ExecuteTime": {
     "end_time": "2025-04-01T16:57:30.365151Z",
     "start_time": "2025-04-01T16:57:30.357285Z"
    }
   },
   "source": [
    "remote_ratio_mapping = {\n",
    "    \"0\": 1,\n",
    "    \"50\": 2,\n",
    "    \"100\": 3\n",
    "}\n",
    "remote_ratio_encoded = salaries_data[\"remote_ratio\"].apply(lambda x: remote_ratio_mapping[str(x)])\n",
    "salaries_data[\"remote_ratio\"] = remote_ratio_encoded"
   ],
   "outputs": [],
   "execution_count": 2941
  },
  {
   "metadata": {},
   "cell_type": "code",
   "outputs": [],
   "execution_count": null,
   "source": [
    "company_size_mapping = {\n",
    "    \"S\": 1,\n",
    "    \"M\": 2,\n",
    "    \"L\": 3\n",
    "}\n",
    "company_size_encoded = salaries_data[\"company_size\"].apply(lambda x: company_size_mapping[str(x)])\n",
    "salaries_data[\"company_size\"] = company_size_encoded"
   ],
   "id": "a682366ed9b633e7"
  },
  {
   "metadata": {},
   "cell_type": "code",
   "outputs": [],
   "execution_count": null,
   "source": [
    "salaries_data[\"residence_gdp_per_capita\"] = normalize(salaries_data[\"residence_gdp_per_capita\"])\n",
    "salaries_data[\"company_gdp_per_capita\"] = normalize(salaries_data[\"company_gdp_per_capita\"])\n",
    "salaries_data[\"experience_level\"] = normalize(salaries_data[\"experience_level\"])\n",
    "salaries_data[\"employment_type\"] = normalize(salaries_data[\"employment_type\"])\n",
    "salaries_data[\"work_year\"] = normalize(salaries_data[\"work_year\"])\n",
    "salaries_data[\"remote_ratio\"] = normalize(salaries_data[\"remote_ratio\"])\n",
    "salaries_data[\"company_size\"] = normalize(salaries_data[\"company_size\"])"
   ],
   "id": "17220076577793ae"
  },
  {
   "metadata": {
    "ExecuteTime": {
     "end_time": "2025-04-01T16:57:30.567641Z",
     "start_time": "2025-04-01T16:57:30.543353Z"
    }
   },
   "cell_type": "code",
   "source": "salaries_data",
   "id": "a250b8de143b45ba",
   "outputs": [
    {
     "data": {
      "text/plain": [
       "     work_year  experience_level  employment_type                 job_title  \\\n",
       "592   1.000000          0.000000              1.0     Business Data Analyst   \n",
       "83    0.333333          0.000000              1.0   Data Science Consultant   \n",
       "4     0.000000          0.000000              1.0              Data Analyst   \n",
       "162   0.333333          0.333333              1.0            Data Scientist   \n",
       "61    0.000000          0.666667              1.0            Data Scientist   \n",
       "..         ...               ...              ...                       ...   \n",
       "28    0.000000          0.333333              1.0              Data Analyst   \n",
       "43    0.000000          0.333333              1.0            Data Scientist   \n",
       "706   1.000000          0.333333              1.0         Research Engineer   \n",
       "296   0.666667          0.000000              1.0            Data Scientist   \n",
       "575   0.666667          0.666667              1.0  Principal Data Scientist   \n",
       "\n",
       "     remote_ratio  residence_gdp_per_capita  company_gdp_per_capita  \\\n",
       "592           0.0                  0.248374                0.248374   \n",
       "83            0.0                  0.385301                0.385301   \n",
       "4             1.0                  0.011818                0.011818   \n",
       "162           1.0                  0.012942                0.012942   \n",
       "61            1.0                  0.126920                0.475775   \n",
       "..            ...                       ...                     ...   \n",
       "28            1.0                  0.475775                0.475775   \n",
       "43            1.0                  0.295504                0.295504   \n",
       "706           1.0                  0.611575                0.611575   \n",
       "296           0.0                  0.576347                0.576347   \n",
       "575           1.0                  0.366142                0.366142   \n",
       "\n",
       "     company_size  salary_in_usd  \n",
       "592           0.5        21461.0  \n",
       "83            1.0        76833.0  \n",
       "4             0.0        10000.0  \n",
       "162           0.0        16904.0  \n",
       "61            1.0        68428.0  \n",
       "..            ...            ...  \n",
       "28            1.0        85000.0  \n",
       "43            0.0        76958.0  \n",
       "706           0.5       110000.0  \n",
       "296           1.0        82000.0  \n",
       "575           0.5       155499.0  \n",
       "\n",
       "[812 rows x 9 columns]"
      ],
      "text/html": [
       "<div>\n",
       "<style scoped>\n",
       "    .dataframe tbody tr th:only-of-type {\n",
       "        vertical-align: middle;\n",
       "    }\n",
       "\n",
       "    .dataframe tbody tr th {\n",
       "        vertical-align: top;\n",
       "    }\n",
       "\n",
       "    .dataframe thead th {\n",
       "        text-align: right;\n",
       "    }\n",
       "</style>\n",
       "<table border=\"1\" class=\"dataframe\">\n",
       "  <thead>\n",
       "    <tr style=\"text-align: right;\">\n",
       "      <th></th>\n",
       "      <th>work_year</th>\n",
       "      <th>experience_level</th>\n",
       "      <th>employment_type</th>\n",
       "      <th>job_title</th>\n",
       "      <th>remote_ratio</th>\n",
       "      <th>residence_gdp_per_capita</th>\n",
       "      <th>company_gdp_per_capita</th>\n",
       "      <th>company_size</th>\n",
       "      <th>salary_in_usd</th>\n",
       "    </tr>\n",
       "  </thead>\n",
       "  <tbody>\n",
       "    <tr>\n",
       "      <th>592</th>\n",
       "      <td>1.000000</td>\n",
       "      <td>0.000000</td>\n",
       "      <td>1.0</td>\n",
       "      <td>Business Data Analyst</td>\n",
       "      <td>0.0</td>\n",
       "      <td>0.248374</td>\n",
       "      <td>0.248374</td>\n",
       "      <td>0.5</td>\n",
       "      <td>21461.0</td>\n",
       "    </tr>\n",
       "    <tr>\n",
       "      <th>83</th>\n",
       "      <td>0.333333</td>\n",
       "      <td>0.000000</td>\n",
       "      <td>1.0</td>\n",
       "      <td>Data Science Consultant</td>\n",
       "      <td>0.0</td>\n",
       "      <td>0.385301</td>\n",
       "      <td>0.385301</td>\n",
       "      <td>1.0</td>\n",
       "      <td>76833.0</td>\n",
       "    </tr>\n",
       "    <tr>\n",
       "      <th>4</th>\n",
       "      <td>0.000000</td>\n",
       "      <td>0.000000</td>\n",
       "      <td>1.0</td>\n",
       "      <td>Data Analyst</td>\n",
       "      <td>1.0</td>\n",
       "      <td>0.011818</td>\n",
       "      <td>0.011818</td>\n",
       "      <td>0.0</td>\n",
       "      <td>10000.0</td>\n",
       "    </tr>\n",
       "    <tr>\n",
       "      <th>162</th>\n",
       "      <td>0.333333</td>\n",
       "      <td>0.333333</td>\n",
       "      <td>1.0</td>\n",
       "      <td>Data Scientist</td>\n",
       "      <td>1.0</td>\n",
       "      <td>0.012942</td>\n",
       "      <td>0.012942</td>\n",
       "      <td>0.0</td>\n",
       "      <td>16904.0</td>\n",
       "    </tr>\n",
       "    <tr>\n",
       "      <th>61</th>\n",
       "      <td>0.000000</td>\n",
       "      <td>0.666667</td>\n",
       "      <td>1.0</td>\n",
       "      <td>Data Scientist</td>\n",
       "      <td>1.0</td>\n",
       "      <td>0.126920</td>\n",
       "      <td>0.475775</td>\n",
       "      <td>1.0</td>\n",
       "      <td>68428.0</td>\n",
       "    </tr>\n",
       "    <tr>\n",
       "      <th>...</th>\n",
       "      <td>...</td>\n",
       "      <td>...</td>\n",
       "      <td>...</td>\n",
       "      <td>...</td>\n",
       "      <td>...</td>\n",
       "      <td>...</td>\n",
       "      <td>...</td>\n",
       "      <td>...</td>\n",
       "      <td>...</td>\n",
       "    </tr>\n",
       "    <tr>\n",
       "      <th>28</th>\n",
       "      <td>0.000000</td>\n",
       "      <td>0.333333</td>\n",
       "      <td>1.0</td>\n",
       "      <td>Data Analyst</td>\n",
       "      <td>1.0</td>\n",
       "      <td>0.475775</td>\n",
       "      <td>0.475775</td>\n",
       "      <td>1.0</td>\n",
       "      <td>85000.0</td>\n",
       "    </tr>\n",
       "    <tr>\n",
       "      <th>43</th>\n",
       "      <td>0.000000</td>\n",
       "      <td>0.333333</td>\n",
       "      <td>1.0</td>\n",
       "      <td>Data Scientist</td>\n",
       "      <td>1.0</td>\n",
       "      <td>0.295504</td>\n",
       "      <td>0.295504</td>\n",
       "      <td>0.0</td>\n",
       "      <td>76958.0</td>\n",
       "    </tr>\n",
       "    <tr>\n",
       "      <th>706</th>\n",
       "      <td>1.000000</td>\n",
       "      <td>0.333333</td>\n",
       "      <td>1.0</td>\n",
       "      <td>Research Engineer</td>\n",
       "      <td>1.0</td>\n",
       "      <td>0.611575</td>\n",
       "      <td>0.611575</td>\n",
       "      <td>0.5</td>\n",
       "      <td>110000.0</td>\n",
       "    </tr>\n",
       "    <tr>\n",
       "      <th>296</th>\n",
       "      <td>0.666667</td>\n",
       "      <td>0.000000</td>\n",
       "      <td>1.0</td>\n",
       "      <td>Data Scientist</td>\n",
       "      <td>0.0</td>\n",
       "      <td>0.576347</td>\n",
       "      <td>0.576347</td>\n",
       "      <td>1.0</td>\n",
       "      <td>82000.0</td>\n",
       "    </tr>\n",
       "    <tr>\n",
       "      <th>575</th>\n",
       "      <td>0.666667</td>\n",
       "      <td>0.666667</td>\n",
       "      <td>1.0</td>\n",
       "      <td>Principal Data Scientist</td>\n",
       "      <td>1.0</td>\n",
       "      <td>0.366142</td>\n",
       "      <td>0.366142</td>\n",
       "      <td>0.5</td>\n",
       "      <td>155499.0</td>\n",
       "    </tr>\n",
       "  </tbody>\n",
       "</table>\n",
       "<p>812 rows × 9 columns</p>\n",
       "</div>"
      ]
     },
     "execution_count": 2944,
     "metadata": {},
     "output_type": "execute_result"
    }
   ],
   "execution_count": 2944
  },
  {
   "metadata": {
    "ExecuteTime": {
     "end_time": "2025-04-01T16:57:30.662882Z",
     "start_time": "2025-04-01T16:57:30.652116Z"
    }
   },
   "cell_type": "code",
   "source": [
    "import matplotlib.pyplot as plt\n",
    "\n",
    "numerical = salaries_data.drop(\"job_title\", axis=1)\n",
    "numerical.corr()[\"salary_in_usd\"]\n"
   ],
   "id": "9e91897d85483d3f",
   "outputs": [
    {
     "data": {
      "text/plain": [
       "work_year                   0.200134\n",
       "experience_level            0.485009\n",
       "employment_type             0.162925\n",
       "remote_ratio               -0.084715\n",
       "residence_gdp_per_capita    0.655164\n",
       "company_gdp_per_capita      0.628952\n",
       "company_size                0.061793\n",
       "salary_in_usd               1.000000\n",
       "Name: salary_in_usd, dtype: float64"
      ]
     },
     "execution_count": 2945,
     "metadata": {},
     "output_type": "execute_result"
    }
   ],
   "execution_count": 2945
  },
  {
   "cell_type": "code",
   "id": "b668037a32fd8c9b",
   "metadata": {
    "ExecuteTime": {
     "end_time": "2025-04-01T16:57:30.801630Z",
     "start_time": "2025-04-01T16:57:30.761863Z"
    }
   },
   "source": [
    "from keras.src.layers import GlobalAveragePooling1D\n",
    "from keras import Input\n",
    "\n",
    "vectorize_layer = TextVectorization(\n",
    "    max_tokens=1000, \n",
    "    output_mode='int',\n",
    "    standardize=\"lower_and_strip_punctuation\",\n",
    "    output_sequence_length=5 \n",
    ")\n",
    "vectorize_layer.adapt(salaries_data['job_title'].values)\n",
    "\n",
    "embedding_dim = 1\n",
    "embedding_layer = Embedding(\n",
    "    input_dim=100,\n",
    "    output_dim=embedding_dim\n",
    ")\n",
    "\n",
    "# Vectorize and embed the job titles\n",
    "job_title_input = Input(shape=(1,), dtype=tf.string, name='job_title')\n",
    "job_title_vectorized = vectorize_layer(job_title_input)\n",
    "job_title_embedded = embedding_layer(job_title_vectorized)\n",
    "job_title_branch = GlobalAveragePooling1D()(job_title_embedded)"
   ],
   "outputs": [],
   "execution_count": 2946
  },
  {
   "metadata": {
    "ExecuteTime": {
     "end_time": "2025-04-01T16:57:30.923608Z",
     "start_time": "2025-04-01T16:57:30.898367Z"
    }
   },
   "cell_type": "code",
   "source": [
    "company_gdp_input = Input(shape=(1,), dtype=tf.float64, name=\"company_gdp\")\n",
    "residence_gdp_input = Input(shape=(1,), dtype=tf.float64, name=\"residence_gdp\")\n",
    "experience_level_input = Input(shape=(1,), dtype=tf.float64, name=\"experience_level\")\n",
    "employment_type_input = Input(shape=(1,), dtype=tf.float64, name=\"employment_type\")\n",
    "work_year_input = Input(shape=(1,), dtype=tf.float64, name=\"work_year\")\n",
    "company_size_input = Input(shape=(1,), dtype=tf.float64, name=\"company_size\")\n",
    "remote_ratio_input = Input(shape=(1,), dtype=tf.float64, name=\"remote_ratio\")\n",
    "\n",
    "# inputs = [company_gdp_input, residence_gdp_input, experience_level_input, employment_type_input, work_year_input, company_size_input, remote_ratio_input]\n",
    "# include_job_title = True"
   ],
   "id": "79fdf207bd9206fe",
   "outputs": [],
   "execution_count": 2947
  },
  {
   "cell_type": "code",
   "id": "9fcb52ffcec66ee9",
   "metadata": {
    "ExecuteTime": {
     "end_time": "2025-04-01T16:57:31.054939Z",
     "start_time": "2025-04-01T16:57:31.049759Z"
    }
   },
   "source": [
    "# from keras.src.layers import concatenate\n",
    "# \n",
    "# preprocessed_layers = []\n",
    "# for input_layer in inputs:\n",
    "#     preprocessed_layers.append(input_layer)\n",
    "# \n",
    "# if include_job_title:\n",
    "#     preprocessed_layers.append(job_title_branch)\n",
    "# \n",
    "# concatenated = concatenate(preprocessed_layers)"
   ],
   "outputs": [],
   "execution_count": 2948
  },
  {
   "cell_type": "code",
   "id": "e6525e1543c36c72",
   "metadata": {
    "ExecuteTime": {
     "end_time": "2025-04-01T16:57:31.118383Z",
     "start_time": "2025-04-01T16:57:31.112900Z"
    }
   },
   "source": [
    "# hidden_layer_1 = Dense(256, activation='relu')(concatenated)\n",
    "# dropout_1 = Dropout(0.5)(hidden_layer_1)\n",
    "# hidden_layer_2 = Dense(256, activation='relu')(dropout_1)\n",
    "# dropout_2 = Dropout(0.5)(hidden_layer_2)\n",
    "# hidden_layer_3 = Dense(256, activation='relu')(dropout_2)"
   ],
   "outputs": [],
   "execution_count": 2949
  },
  {
   "cell_type": "code",
   "id": "81aca5565dc8b32d",
   "metadata": {
    "ExecuteTime": {
     "end_time": "2025-04-01T16:57:31.173885Z",
     "start_time": "2025-04-01T16:57:31.168527Z"
    }
   },
   "source": "# output = Dense(1, activation=None)(hidden_layer_3)",
   "outputs": [],
   "execution_count": 2950
  },
  {
   "cell_type": "code",
   "id": "2ce863a5f7e57cb4",
   "metadata": {
    "ExecuteTime": {
     "end_time": "2025-04-01T16:57:31.235259Z",
     "start_time": "2025-04-01T16:57:31.230553Z"
    }
   },
   "source": [
    "# input_layers = []\n",
    "# for input_layer in inputs:\n",
    "#     input_layers.append(input_layer)\n",
    "# \n",
    "# if include_job_title:\n",
    "#     input_layers.append(job_title_input)\n",
    "# \n",
    "# model = tf.keras.Model(inputs=input_layers, outputs=output)"
   ],
   "outputs": [],
   "execution_count": 2951
  },
  {
   "cell_type": "code",
   "id": "68a07693fefaa83e",
   "metadata": {
    "ExecuteTime": {
     "end_time": "2025-04-01T16:57:31.290280Z",
     "start_time": "2025-04-01T16:57:31.286306Z"
    }
   },
   "source": "# model.summary()",
   "outputs": [],
   "execution_count": 2952
  },
  {
   "cell_type": "code",
   "id": "6b1ce2f046367874",
   "metadata": {
    "ExecuteTime": {
     "end_time": "2025-04-01T16:57:31.345194Z",
     "start_time": "2025-04-01T16:57:31.341249Z"
    }
   },
   "source": [
    "# optimizer = tf.keras.optimizers.Adam(learning_rate = 0.005)\n",
    "# model.compile(optimizer=optimizer, loss=tf.keras.losses.MeanSquaredError, metrics=[tf.keras.metrics.RootMeanSquaredError])"
   ],
   "outputs": [],
   "execution_count": 2953
  },
  {
   "metadata": {
    "ExecuteTime": {
     "end_time": "2025-04-01T16:57:31.411574Z",
     "start_time": "2025-04-01T16:57:31.402928Z"
    }
   },
   "cell_type": "code",
   "source": [
    "from keras.src.regularizers import regularizers\n",
    "\n",
    "def build_model():\n",
    "    inputs = [company_gdp_input, residence_gdp_input, experience_level_input, work_year_input, company_size_input, remote_ratio_input]\n",
    "    include_job_title = True\n",
    "\n",
    "    preprocessed_layers = []\n",
    "    for input_layer in inputs:\n",
    "        preprocessed_layers.append(input_layer)\n",
    "    \n",
    "    if include_job_title:\n",
    "        preprocessed_layers.append(job_title_branch)\n",
    "\n",
    "    concatenated = concatenate(preprocessed_layers)\n",
    "\n",
    "    input_layers = []\n",
    "    for input_layer in inputs:\n",
    "        input_layers.append(input_layer)\n",
    "    \n",
    "    if include_job_title:\n",
    "        input_layers.append(job_title_input)\n",
    "    \n",
    "    regularizer = regularizers.L1L2(l1=0.01, l2=0.01)\n",
    "    \n",
    "    hidden_layer_1 = Dense(256, activation='relu', kernel_regularizer=regularizer)(concatenated)\n",
    "    dropout_1 = Dropout(0.5)(hidden_layer_1)\n",
    "    hidden_layer_2 = Dense(128, activation='relu', kernel_regularizer=regularizer)(dropout_1)\n",
    "    dropout_2 = Dropout(0.5)(hidden_layer_2)\n",
    "    hidden_layer_3 = Dense(64, activation='relu', kernel_regularizer=regularizer)(dropout_2)\n",
    "    output = Dense(1, activation=None)(hidden_layer_3)\n",
    "    \n",
    "    model = tf.keras.Model(inputs=input_layers, outputs=output)\n",
    "    optimizer = tf.keras.optimizers.Adam(learning_rate = 0.0005)\n",
    "    model.compile(optimizer=optimizer, loss=tf.keras.losses.MeanSquaredError, metrics=[tf.keras.metrics.RootMeanSquaredError])\n",
    "    return model\n",
    "    \n"
   ],
   "id": "6f578ce0c935434d",
   "outputs": [],
   "execution_count": 2954
  },
  {
   "metadata": {
    "ExecuteTime": {
     "end_time": "2025-04-01T16:57:31.477616Z",
     "start_time": "2025-04-01T16:57:31.464082Z"
    }
   },
   "cell_type": "code",
   "source": [
    "import numpy as np\n",
    "from sklearn.model_selection import KFold\n",
    "\n",
    "def k_fold_cross_validation(model_builder, df, epochs, batch_size, k=5):    \n",
    "    kf = KFold(n_splits=k, shuffle=True)\n",
    "    validation_accuracies = []\n",
    "\n",
    "    for fold, (train_index, val_index) in enumerate(kf.split(df)):\n",
    "        print(f\"Fold {fold + 1}/{k}\")\n",
    "        train_df = df.iloc[train_index]\n",
    "        val_df = df.iloc[val_index]\n",
    "        \n",
    "        train_work_year = train_df[\"work_year\"]\n",
    "        train_experience_level = train_df[\"experience_level\"]\n",
    "        train_employment_type = train_df[\"employment_type\"]\n",
    "        train_job_title = train_df[\"job_title\"].values\n",
    "        train_remote_ratio = train_df[\"remote_ratio\"]\n",
    "        train_residence_gdp_per_capita = train_df[\"residence_gdp_per_capita\"]\n",
    "        train_company_gdp = train_df[\"company_gdp_per_capita\"]\n",
    "        train_company_size = train_df[\"company_size\"]\n",
    "        train_salary = train_df[\"salary_in_usd\"].values\n",
    "        \n",
    "        val_work_year = val_df[\"work_year\"]\n",
    "        val_experience_level = val_df[\"experience_level\"]\n",
    "        val_employment_type = val_df[\"employment_type\"]\n",
    "        val_job_title = val_df[\"job_title\"].values\n",
    "        val_remote_ratio = val_df[\"remote_ratio\"]\n",
    "        val_residence_gdp_per_capita = val_df[\"residence_gdp_per_capita\"]\n",
    "        val_company_gdp = val_df[\"company_gdp_per_capita\"]\n",
    "        val_company_size = val_df[\"company_size\"]\n",
    "        val_salary = val_df[\"salary_in_usd\"]\n",
    "        \n",
    "        model = model_builder()\n",
    "\n",
    "        history = model.fit({\n",
    "            \"work_year\": train_work_year,\n",
    "            \"experience_level\": train_experience_level,\n",
    "            \"employment_type\": train_employment_type,\n",
    "            \"job_title\": train_job_title,\n",
    "            \"remote_ratio\": train_remote_ratio,\n",
    "            \"residence_gdp\": train_residence_gdp_per_capita,\n",
    "            \"company_size\": train_company_size,\n",
    "            \"company_gdp\": train_company_gdp,\n",
    "        }, train_salary, epochs=epochs, batch_size=batch_size, \n",
    "            validation_data=({\n",
    "                \"work_year\": val_work_year,\n",
    "                \"experience_level\": val_experience_level,\n",
    "                \"employment_type\": val_employment_type,\n",
    "                \"job_title\": val_job_title,\n",
    "                \"remote_ratio\": val_remote_ratio,\n",
    "                \"residence_gdp\": val_residence_gdp_per_capita,\n",
    "                \"company_size\": val_company_size,\n",
    "                \"company_gdp\": val_company_gdp,\n",
    "            }, val_salary), verbose=0)\n",
    "\n",
    "        # Evaluate the model on the validation set\n",
    "        _, val_accuracy = model.evaluate({\n",
    "            \"work_year\": val_work_year,\n",
    "            \"experience_level\": val_experience_level,\n",
    "            \"employment_type\": val_employment_type,\n",
    "            \"job_title\": val_job_title,\n",
    "            \"remote_ratio\": val_remote_ratio,\n",
    "            \"residence_gdp\": val_residence_gdp_per_capita,\n",
    "            \"company_size\": val_company_size,\n",
    "            \"company_gdp\": val_company_gdp,\n",
    "        }, val_salary, verbose=0)\n",
    "        validation_accuracies.append(val_accuracy)\n",
    "        \n",
    "        result = pd.DataFrame(history.history)\n",
    "        \n",
    "        result[[\"root_mean_squared_error\", \"val_root_mean_squared_error\"]].plot(figsize=(5,3))\n",
    "        plt.show()\n",
    "\n",
    "        print(f\"Validation Accuracy: {val_accuracy:.4f}\")\n",
    "        print(\"-\" * 20)\n",
    "\n",
    "    print(f\"Average Validation Accuracy: {np.mean(validation_accuracies):.4f}\")\n",
    "    return validation_accuracies"
   ],
   "id": "67c9ee36393410b5",
   "outputs": [],
   "execution_count": 2955
  },
  {
   "metadata": {
    "ExecuteTime": {
     "end_time": "2025-04-01T17:06:10.387785Z",
     "start_time": "2025-04-01T16:57:31.529700Z"
    }
   },
   "cell_type": "code",
   "source": "k_fold_cross_validation(build_model, salaries_data, epochs=200, batch_size=8)",
   "id": "e56b7f6766c6d67f",
   "outputs": [
    {
     "name": "stdout",
     "output_type": "stream",
     "text": [
      "Fold 1/5\n"
     ]
    },
    {
     "data": {
      "text/plain": [
       "<Figure size 500x300 with 1 Axes>"
      ],
      "image/png": "[encoded data removed]"
     },
     "metadata": {},
     "output_type": "display_data"
    },
    {
     "name": "stdout",
     "output_type": "stream",
     "text": [
      "Validation Accuracy: 33369.4766\n",
      "--------------------\n",
      "Fold 2/5\n"
     ]
    },
    {
     "data": {
      "text/plain": [
       "<Figure size 500x300 with 1 Axes>"
      ],
      "image/png": "[encoded data removed]"
     },
     "metadata": {},
     "output_type": "display_data"
    },
    {
     "name": "stdout",
     "output_type": "stream",
     "text": [
      "Validation Accuracy: 42316.4141\n",
      "--------------------\n",
      "Fold 3/5\n"
     ]
    },
    {
     "data": {
      "text/plain": [
       "<Figure size 500x300 with 1 Axes>"
      ],
      "image/png": "[encoded data removed]"
     },
     "metadata": {},
     "output_type": "display_data"
    },
    {
     "name": "stdout",
     "output_type": "stream",
     "text": [
      "Validation Accuracy: 37216.2695\n",
      "--------------------\n",
      "Fold 4/5\n"
     ]
    },
    {
     "data": {
      "text/plain": [
       "<Figure size 500x300 with 1 Axes>"
      ],
      "image/png": "[encoded data removed]"
     },
     "metadata": {},
     "output_type": "display_data"
    },
    {
     "name": "stdout",
     "output_type": "stream",
     "text": [
      "Validation Accuracy: 37191.7930\n",
      "--------------------\n",
      "Fold 5/5\n"
     ]
    },
    {
     "data": {
      "text/plain": [
       "<Figure size 500x300 with 1 Axes>"
      ],
      "image/png": "[encoded data removed]"
     },
     "metadata": {},
     "output_type": "display_data"
    },
    {
     "name": "stdout",
     "output_type": "stream",
     "text": [
      "Validation Accuracy: 38903.9609\n",
      "--------------------\n",
      "Average Validation Accuracy: 37799.5828\n"
     ]
    },
    {
     "data": {
      "text/plain": [
       "[33369.4765625, 42316.4140625, 37216.26953125, 37191.79296875, 38903.9609375]"
      ]
     },
     "execution_count": 2956,
     "metadata": {},
     "output_type": "execute_result"
    }
   ],
   "execution_count": 2956
  }
 ],
 "metadata": {
  "kernelspec": {
   "display_name": "Python 3 (ipykernel)",
   "language": "python",
   "name": "python3"
  },
  "language_info": {
   "codemirror_mode": {
    "name": "ipython",
    "version": 3
   },
   "file_extension": ".py",
   "mimetype": "text/x-python",
   "name": "python",
   "nbconvert_exporter": "python",
   "pygments_lexer": "ipython3",
   "version": "3.12.5"
  }
 },
 "nbformat": 4,
 "nbformat_minor": 5
}
